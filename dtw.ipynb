{
  "nbformat": 4,
  "nbformat_minor": 0,
  "metadata": {
    "colab": {
      "name": "dtw.ipynb",
      "provenance": [],
      "collapsed_sections": []
    },
    "kernelspec": {
      "name": "python3",
      "display_name": "Python 3"
    },
    "language_info": {
      "name": "python"
    }
  },
  "cells": [
    {
      "cell_type": "markdown",
      "metadata": {
        "id": "M1rmPJ7fA8KL"
      },
      "source": [
        "### Dynamic Time Warping Implementation"
      ]
    },
    {
      "cell_type": "markdown",
      "metadata": {
        "id": "16Sd2Aq3BMLX"
      },
      "source": [
        "Importing of required libraries"
      ]
    },
    {
      "cell_type": "code",
      "metadata": {
        "id": "HsdFjZxNAcFz"
      },
      "source": [
        "import numpy as np\n",
        "import pandas as pd"
      ],
      "execution_count": 1,
      "outputs": []
    },
    {
      "cell_type": "markdown",
      "metadata": {
        "id": "7_PVGCGaBW5g"
      },
      "source": [
        "Test Cases"
      ]
    },
    {
      "cell_type": "code",
      "metadata": {
        "id": "WiCCyZrZBV80"
      },
      "source": [
        "# Test Case 1\n",
        "# series1 = [1,4,5,10,9,3,2,6,8,4]\n",
        "# series2 = [1,7,3,4,1,10,5,4,7,4]\n",
        "\n",
        "# Test Case 2\n",
        "# series1 = [1,1,4,10,9,3,2,6,8,4]\n",
        "# series2 = [1,4,10,9,3,2,6,8,4,4]\n",
        "\n",
        "# Test Case 3\n",
        "series1 = [1, 2, 3]\n",
        "series2 = [3, 2, 2]"
      ],
      "execution_count": 8,
      "outputs": []
    },
    {
      "cell_type": "markdown",
      "metadata": {
        "id": "oe0X7fWPB5AM"
      },
      "source": [
        "###Algorithm Implementation"
      ]
    },
    {
      "cell_type": "markdown",
      "metadata": {
        "id": "mR_fPGUHDOOw"
      },
      "source": [
        "Defining function for DTW"
      ]
    },
    {
      "cell_type": "code",
      "metadata": {
        "colab": {
          "base_uri": "https://localhost:8080/"
        },
        "id": "pXe0TAGQAl2G",
        "outputId": "7a065769-9443-4c58-a682-cdc9e538b55d"
      },
      "source": [
        "## Fill DTW Matrix\n",
        "def dtw_cost_matrix(s, t):\n",
        "    s_len = len(s)\n",
        "    t_len = len(t)\n",
        "\n",
        "    ## Section 1\n",
        "    cost_matrix = np.zeros((s_len+1, t_len+1))\n",
        "\n",
        "    ## Section 2\n",
        "    for i in range(s_len+1):\n",
        "        for j in range(t_len+1):\n",
        "            cost_matrix[i, j] = np.inf\n",
        "            \n",
        "    cost_matrix[0, 0] = 0\n",
        "    \n",
        "    ## Section 3\n",
        "    for i in range(1, s_len+1):\n",
        "        for j in range(1, t_len+1):\n",
        "            cost = abs(s[i-1] - t[j-1])\n",
        "            prev_min = np.min([cost_matrix[i-1, j], \n",
        "                               cost_matrix[i, j-1], \n",
        "                               cost_matrix[i-1, j-1]])\n",
        "            cost_matrix[i, j] = cost + prev_min\n",
        "\n",
        "    return cost_matrix\n",
        "\n",
        "##Call DTW function\n",
        "dtw_cost_matrix = dtw_cost_matrix(series1,series2)\n",
        "print(dtw_cost_matrix)"
      ],
      "execution_count": 9,
      "outputs": [
        {
          "output_type": "stream",
          "text": [
            "[[ 0. inf inf inf]\n",
            " [inf  2.  3.  4.]\n",
            " [inf  3.  2.  2.]\n",
            " [inf  3.  3.  3.]]\n"
          ],
          "name": "stdout"
        }
      ]
    },
    {
      "cell_type": "markdown",
      "metadata": {
        "id": "P11sSHlhDbrQ"
      },
      "source": [
        "Find the distance between series1 and series2 "
      ]
    },
    {
      "cell_type": "code",
      "metadata": {
        "id": "zDwZ_ViyYxOW",
        "colab": {
          "base_uri": "https://localhost:8080/"
        },
        "outputId": "b889a36f-3dd0-407a-b237-814c749d70b6"
      },
      "source": [
        "# Finding the distance.\n",
        "x = len(dtw_cost_matrix) - 1\n",
        "y = 0\n",
        "min = dtw_cost_matrix[x][y]\n",
        "\n",
        "for i in range(len(dtw_cost_matrix[0])):\n",
        "  if (min > dtw_cost_matrix[x][i]):\n",
        "    min =  dtw_cost_matrix[x][i]\n",
        "\n",
        "min"
      ],
      "execution_count": 12,
      "outputs": [
        {
          "output_type": "execute_result",
          "data": {
            "text/plain": [
              "3.0"
            ]
          },
          "metadata": {
            "tags": []
          },
          "execution_count": 12
        }
      ]
    },
    {
      "cell_type": "markdown",
      "metadata": {
        "id": "ulZmaf__DvSQ"
      },
      "source": [
        "Comparing result with existing DTW implementation library"
      ]
    },
    {
      "cell_type": "code",
      "metadata": {
        "colab": {
          "base_uri": "https://localhost:8080/"
        },
        "id": "ih8Dro5KHhUP",
        "outputId": "fff2733f-1543-491f-c04b-422773685306"
      },
      "source": [
        "from fastdtw import fastdtw\n",
        "from scipy.spatial.distance import euclidean\n",
        "\n",
        "distance, path = fastdtw(series1, series2, dist=euclidean)\n",
        "distance"
      ],
      "execution_count": 11,
      "outputs": [
        {
          "output_type": "execute_result",
          "data": {
            "text/plain": [
              "3.0"
            ]
          },
          "metadata": {
            "tags": []
          },
          "execution_count": 11
        }
      ]
    }
  ]
}